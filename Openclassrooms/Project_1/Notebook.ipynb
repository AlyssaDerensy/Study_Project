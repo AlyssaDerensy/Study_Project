{
 "cells": [
  {
   "cell_type": "code",
   "execution_count": 2,
   "id": "d2b88657-2418-430a-be20-9d122662054f",
   "metadata": {},
   "outputs": [],
   "source": [
    "#Pandas == DataFrame & Manipulation\n",
    "#Seaborn & Matplot == Graphique\n",
    "#Numpy == Fonction mathématique pour matrice & tableau\n",
    "\n",
    "#Nettoyer code & commenter pour le storytelling - analyse\n",
    "\n",
    "import pandas as pd\n",
    "import seaborn as sns\n",
    "import matplotlib.pyplot as plt\n",
    "import numpy as np"
   ]
  },
  {
   "cell_type": "code",
   "execution_count": 3,
   "id": "c57a773a-dbbb-486a-af03-0a538282fb4c",
   "metadata": {},
   "outputs": [],
   "source": [
    "#Importation CSV\n",
    "\n",
    "data_population = pd.read_csv(\"population.csv\")\n",
    "data_aide_ali = pd.read_csv(\"aide_alimentaire.csv\")\n",
    "data_dispo_ali = pd.read_csv(\"dispo_alimentaire.csv\")\n",
    "data_sous_nutri = pd.read_csv(\"sous_nutrition.csv\")\n",
    "data_cereale = pd.read_csv(\"cereale.csv\")"
   ]
  },
  {
   "cell_type": "markdown",
   "id": "c8eaf5e0",
   "metadata": {},
   "source": [
    "# VERIFICATION IMPORTATION"
   ]
  },
  {
   "cell_type": "code",
   "execution_count": 3,
   "id": "19a5ef79-38a2-45fb-b33b-ed486bce3e12",
   "metadata": {},
   "outputs": [
    {
     "data": {
      "text/html": [
       "<div>\n",
       "<style scoped>\n",
       "    .dataframe tbody tr th:only-of-type {\n",
       "        vertical-align: middle;\n",
       "    }\n",
       "\n",
       "    .dataframe tbody tr th {\n",
       "        vertical-align: top;\n",
       "    }\n",
       "\n",
       "    .dataframe thead th {\n",
       "        text-align: right;\n",
       "    }\n",
       "</style>\n",
       "<table border=\"1\" class=\"dataframe\">\n",
       "  <thead>\n",
       "    <tr style=\"text-align: right;\">\n",
       "      <th></th>\n",
       "      <th>Zone</th>\n",
       "      <th>Année</th>\n",
       "      <th>Valeur</th>\n",
       "    </tr>\n",
       "  </thead>\n",
       "  <tbody>\n",
       "    <tr>\n",
       "      <th>0</th>\n",
       "      <td>Afghanistan</td>\n",
       "      <td>2013</td>\n",
       "      <td>32269.589</td>\n",
       "    </tr>\n",
       "    <tr>\n",
       "      <th>1</th>\n",
       "      <td>Afghanistan</td>\n",
       "      <td>2014</td>\n",
       "      <td>33370.794</td>\n",
       "    </tr>\n",
       "    <tr>\n",
       "      <th>2</th>\n",
       "      <td>Afghanistan</td>\n",
       "      <td>2015</td>\n",
       "      <td>34413.603</td>\n",
       "    </tr>\n",
       "    <tr>\n",
       "      <th>3</th>\n",
       "      <td>Afghanistan</td>\n",
       "      <td>2016</td>\n",
       "      <td>35383.032</td>\n",
       "    </tr>\n",
       "    <tr>\n",
       "      <th>4</th>\n",
       "      <td>Afghanistan</td>\n",
       "      <td>2017</td>\n",
       "      <td>36296.113</td>\n",
       "    </tr>\n",
       "  </tbody>\n",
       "</table>\n",
       "</div>"
      ],
      "text/plain": [
       "          Zone  Année     Valeur\n",
       "0  Afghanistan   2013  32269.589\n",
       "1  Afghanistan   2014  33370.794\n",
       "2  Afghanistan   2015  34413.603\n",
       "3  Afghanistan   2016  35383.032\n",
       "4  Afghanistan   2017  36296.113"
      ]
     },
     "execution_count": 3,
     "metadata": {},
     "output_type": "execute_result"
    }
   ],
   "source": [
    "data_population.head()"
   ]
  },
  {
   "cell_type": "code",
   "execution_count": 4,
   "id": "b8d61ab7-2363-48d1-93db-5a4c7edd92db",
   "metadata": {},
   "outputs": [
    {
     "data": {
      "text/html": [
       "<div>\n",
       "<style scoped>\n",
       "    .dataframe tbody tr th:only-of-type {\n",
       "        vertical-align: middle;\n",
       "    }\n",
       "\n",
       "    .dataframe tbody tr th {\n",
       "        vertical-align: top;\n",
       "    }\n",
       "\n",
       "    .dataframe thead th {\n",
       "        text-align: right;\n",
       "    }\n",
       "</style>\n",
       "<table border=\"1\" class=\"dataframe\">\n",
       "  <thead>\n",
       "    <tr style=\"text-align: right;\">\n",
       "      <th></th>\n",
       "      <th>Pays bénéficiaire</th>\n",
       "      <th>Année</th>\n",
       "      <th>Produit</th>\n",
       "      <th>Valeur</th>\n",
       "    </tr>\n",
       "  </thead>\n",
       "  <tbody>\n",
       "    <tr>\n",
       "      <th>0</th>\n",
       "      <td>Afghanistan</td>\n",
       "      <td>2013</td>\n",
       "      <td>Autres non-céréales</td>\n",
       "      <td>682</td>\n",
       "    </tr>\n",
       "    <tr>\n",
       "      <th>1</th>\n",
       "      <td>Afghanistan</td>\n",
       "      <td>2014</td>\n",
       "      <td>Autres non-céréales</td>\n",
       "      <td>335</td>\n",
       "    </tr>\n",
       "    <tr>\n",
       "      <th>2</th>\n",
       "      <td>Afghanistan</td>\n",
       "      <td>2013</td>\n",
       "      <td>Blé et Farin</td>\n",
       "      <td>39224</td>\n",
       "    </tr>\n",
       "    <tr>\n",
       "      <th>3</th>\n",
       "      <td>Afghanistan</td>\n",
       "      <td>2014</td>\n",
       "      <td>Blé et Farin</td>\n",
       "      <td>15160</td>\n",
       "    </tr>\n",
       "    <tr>\n",
       "      <th>4</th>\n",
       "      <td>Afghanistan</td>\n",
       "      <td>2013</td>\n",
       "      <td>Céréales</td>\n",
       "      <td>40504</td>\n",
       "    </tr>\n",
       "  </tbody>\n",
       "</table>\n",
       "</div>"
      ],
      "text/plain": [
       "  Pays bénéficiaire  Année              Produit  Valeur\n",
       "0       Afghanistan   2013  Autres non-céréales     682\n",
       "1       Afghanistan   2014  Autres non-céréales     335\n",
       "2       Afghanistan   2013         Blé et Farin   39224\n",
       "3       Afghanistan   2014         Blé et Farin   15160\n",
       "4       Afghanistan   2013             Céréales   40504"
      ]
     },
     "execution_count": 4,
     "metadata": {},
     "output_type": "execute_result"
    }
   ],
   "source": [
    "data_aide_ali.head()"
   ]
  },
  {
   "cell_type": "code",
   "execution_count": 5,
   "id": "d7278262-bcf1-4ed1-bdf9-f825fb4f4ec6",
   "metadata": {},
   "outputs": [
    {
     "data": {
      "text/html": [
       "<div>\n",
       "<style scoped>\n",
       "    .dataframe tbody tr th:only-of-type {\n",
       "        vertical-align: middle;\n",
       "    }\n",
       "\n",
       "    .dataframe tbody tr th {\n",
       "        vertical-align: top;\n",
       "    }\n",
       "\n",
       "    .dataframe thead th {\n",
       "        text-align: right;\n",
       "    }\n",
       "</style>\n",
       "<table border=\"1\" class=\"dataframe\">\n",
       "  <thead>\n",
       "    <tr style=\"text-align: right;\">\n",
       "      <th></th>\n",
       "      <th>Zone</th>\n",
       "      <th>Produit</th>\n",
       "      <th>Origine</th>\n",
       "      <th>Aliments pour animaux</th>\n",
       "      <th>Autres Utilisations</th>\n",
       "      <th>Disponibilité alimentaire (Kcal/personne/jour)</th>\n",
       "      <th>Disponibilité alimentaire en quantité (kg/personne/an)</th>\n",
       "      <th>Disponibilité de matière grasse en quantité (g/personne/jour)</th>\n",
       "      <th>Disponibilité de protéines en quantité (g/personne/jour)</th>\n",
       "      <th>Disponibilité intérieure</th>\n",
       "      <th>Exportations - Quantité</th>\n",
       "      <th>Importations - Quantité</th>\n",
       "      <th>Nourriture</th>\n",
       "      <th>Pertes</th>\n",
       "      <th>Production</th>\n",
       "      <th>Semences</th>\n",
       "      <th>Traitement</th>\n",
       "      <th>Variation de stock</th>\n",
       "    </tr>\n",
       "  </thead>\n",
       "  <tbody>\n",
       "    <tr>\n",
       "      <th>0</th>\n",
       "      <td>Afghanistan</td>\n",
       "      <td>Abats Comestible</td>\n",
       "      <td>animale</td>\n",
       "      <td>NaN</td>\n",
       "      <td>NaN</td>\n",
       "      <td>5.0</td>\n",
       "      <td>1.72</td>\n",
       "      <td>0.20</td>\n",
       "      <td>0.77</td>\n",
       "      <td>53.0</td>\n",
       "      <td>NaN</td>\n",
       "      <td>NaN</td>\n",
       "      <td>53.0</td>\n",
       "      <td>NaN</td>\n",
       "      <td>53.0</td>\n",
       "      <td>NaN</td>\n",
       "      <td>NaN</td>\n",
       "      <td>NaN</td>\n",
       "    </tr>\n",
       "    <tr>\n",
       "      <th>1</th>\n",
       "      <td>Afghanistan</td>\n",
       "      <td>Agrumes, Autres</td>\n",
       "      <td>vegetale</td>\n",
       "      <td>NaN</td>\n",
       "      <td>NaN</td>\n",
       "      <td>1.0</td>\n",
       "      <td>1.29</td>\n",
       "      <td>0.01</td>\n",
       "      <td>0.02</td>\n",
       "      <td>41.0</td>\n",
       "      <td>2.0</td>\n",
       "      <td>40.0</td>\n",
       "      <td>39.0</td>\n",
       "      <td>2.0</td>\n",
       "      <td>3.0</td>\n",
       "      <td>NaN</td>\n",
       "      <td>NaN</td>\n",
       "      <td>NaN</td>\n",
       "    </tr>\n",
       "    <tr>\n",
       "      <th>2</th>\n",
       "      <td>Afghanistan</td>\n",
       "      <td>Aliments pour enfants</td>\n",
       "      <td>vegetale</td>\n",
       "      <td>NaN</td>\n",
       "      <td>NaN</td>\n",
       "      <td>1.0</td>\n",
       "      <td>0.06</td>\n",
       "      <td>0.01</td>\n",
       "      <td>0.03</td>\n",
       "      <td>2.0</td>\n",
       "      <td>NaN</td>\n",
       "      <td>2.0</td>\n",
       "      <td>2.0</td>\n",
       "      <td>NaN</td>\n",
       "      <td>NaN</td>\n",
       "      <td>NaN</td>\n",
       "      <td>NaN</td>\n",
       "      <td>NaN</td>\n",
       "    </tr>\n",
       "    <tr>\n",
       "      <th>3</th>\n",
       "      <td>Afghanistan</td>\n",
       "      <td>Ananas</td>\n",
       "      <td>vegetale</td>\n",
       "      <td>NaN</td>\n",
       "      <td>NaN</td>\n",
       "      <td>0.0</td>\n",
       "      <td>0.00</td>\n",
       "      <td>NaN</td>\n",
       "      <td>NaN</td>\n",
       "      <td>0.0</td>\n",
       "      <td>NaN</td>\n",
       "      <td>0.0</td>\n",
       "      <td>0.0</td>\n",
       "      <td>NaN</td>\n",
       "      <td>NaN</td>\n",
       "      <td>NaN</td>\n",
       "      <td>NaN</td>\n",
       "      <td>NaN</td>\n",
       "    </tr>\n",
       "    <tr>\n",
       "      <th>4</th>\n",
       "      <td>Afghanistan</td>\n",
       "      <td>Bananes</td>\n",
       "      <td>vegetale</td>\n",
       "      <td>NaN</td>\n",
       "      <td>NaN</td>\n",
       "      <td>4.0</td>\n",
       "      <td>2.70</td>\n",
       "      <td>0.02</td>\n",
       "      <td>0.05</td>\n",
       "      <td>82.0</td>\n",
       "      <td>NaN</td>\n",
       "      <td>82.0</td>\n",
       "      <td>82.0</td>\n",
       "      <td>NaN</td>\n",
       "      <td>NaN</td>\n",
       "      <td>NaN</td>\n",
       "      <td>NaN</td>\n",
       "      <td>NaN</td>\n",
       "    </tr>\n",
       "  </tbody>\n",
       "</table>\n",
       "</div>"
      ],
      "text/plain": [
       "          Zone                Produit   Origine  Aliments pour animaux  \\\n",
       "0  Afghanistan       Abats Comestible   animale                    NaN   \n",
       "1  Afghanistan        Agrumes, Autres  vegetale                    NaN   \n",
       "2  Afghanistan  Aliments pour enfants  vegetale                    NaN   \n",
       "3  Afghanistan                 Ananas  vegetale                    NaN   \n",
       "4  Afghanistan                Bananes  vegetale                    NaN   \n",
       "\n",
       "   Autres Utilisations  Disponibilité alimentaire (Kcal/personne/jour)  \\\n",
       "0                  NaN                                             5.0   \n",
       "1                  NaN                                             1.0   \n",
       "2                  NaN                                             1.0   \n",
       "3                  NaN                                             0.0   \n",
       "4                  NaN                                             4.0   \n",
       "\n",
       "   Disponibilité alimentaire en quantité (kg/personne/an)  \\\n",
       "0                                               1.72        \n",
       "1                                               1.29        \n",
       "2                                               0.06        \n",
       "3                                               0.00        \n",
       "4                                               2.70        \n",
       "\n",
       "   Disponibilité de matière grasse en quantité (g/personne/jour)  \\\n",
       "0                                               0.20               \n",
       "1                                               0.01               \n",
       "2                                               0.01               \n",
       "3                                                NaN               \n",
       "4                                               0.02               \n",
       "\n",
       "   Disponibilité de protéines en quantité (g/personne/jour)  \\\n",
       "0                                               0.77          \n",
       "1                                               0.02          \n",
       "2                                               0.03          \n",
       "3                                                NaN          \n",
       "4                                               0.05          \n",
       "\n",
       "   Disponibilité intérieure  Exportations - Quantité  Importations - Quantité  \\\n",
       "0                      53.0                      NaN                      NaN   \n",
       "1                      41.0                      2.0                     40.0   \n",
       "2                       2.0                      NaN                      2.0   \n",
       "3                       0.0                      NaN                      0.0   \n",
       "4                      82.0                      NaN                     82.0   \n",
       "\n",
       "   Nourriture  Pertes  Production  Semences  Traitement  Variation de stock  \n",
       "0        53.0     NaN        53.0       NaN         NaN                 NaN  \n",
       "1        39.0     2.0         3.0       NaN         NaN                 NaN  \n",
       "2         2.0     NaN         NaN       NaN         NaN                 NaN  \n",
       "3         0.0     NaN         NaN       NaN         NaN                 NaN  \n",
       "4        82.0     NaN         NaN       NaN         NaN                 NaN  "
      ]
     },
     "execution_count": 5,
     "metadata": {},
     "output_type": "execute_result"
    }
   ],
   "source": [
    "data_dispo_ali.head()"
   ]
  },
  {
   "cell_type": "code",
   "execution_count": 6,
   "id": "4805fb65-e053-4517-bb9f-d372566b86bb",
   "metadata": {},
   "outputs": [
    {
     "data": {
      "text/html": [
       "<div>\n",
       "<style scoped>\n",
       "    .dataframe tbody tr th:only-of-type {\n",
       "        vertical-align: middle;\n",
       "    }\n",
       "\n",
       "    .dataframe tbody tr th {\n",
       "        vertical-align: top;\n",
       "    }\n",
       "\n",
       "    .dataframe thead th {\n",
       "        text-align: right;\n",
       "    }\n",
       "</style>\n",
       "<table border=\"1\" class=\"dataframe\">\n",
       "  <thead>\n",
       "    <tr style=\"text-align: right;\">\n",
       "      <th></th>\n",
       "      <th>Zone</th>\n",
       "      <th>Année</th>\n",
       "      <th>Valeur</th>\n",
       "    </tr>\n",
       "  </thead>\n",
       "  <tbody>\n",
       "    <tr>\n",
       "      <th>0</th>\n",
       "      <td>Afghanistan</td>\n",
       "      <td>2012-2014</td>\n",
       "      <td>8.6</td>\n",
       "    </tr>\n",
       "    <tr>\n",
       "      <th>1</th>\n",
       "      <td>Afghanistan</td>\n",
       "      <td>2013-2015</td>\n",
       "      <td>8.8</td>\n",
       "    </tr>\n",
       "    <tr>\n",
       "      <th>2</th>\n",
       "      <td>Afghanistan</td>\n",
       "      <td>2014-2016</td>\n",
       "      <td>8.9</td>\n",
       "    </tr>\n",
       "    <tr>\n",
       "      <th>3</th>\n",
       "      <td>Afghanistan</td>\n",
       "      <td>2015-2017</td>\n",
       "      <td>9.7</td>\n",
       "    </tr>\n",
       "    <tr>\n",
       "      <th>4</th>\n",
       "      <td>Afghanistan</td>\n",
       "      <td>2016-2018</td>\n",
       "      <td>10.5</td>\n",
       "    </tr>\n",
       "  </tbody>\n",
       "</table>\n",
       "</div>"
      ],
      "text/plain": [
       "          Zone      Année Valeur\n",
       "0  Afghanistan  2012-2014    8.6\n",
       "1  Afghanistan  2013-2015    8.8\n",
       "2  Afghanistan  2014-2016    8.9\n",
       "3  Afghanistan  2015-2017    9.7\n",
       "4  Afghanistan  2016-2018   10.5"
      ]
     },
     "execution_count": 6,
     "metadata": {},
     "output_type": "execute_result"
    }
   ],
   "source": [
    "data_sous_nutri.head()"
   ]
  },
  {
   "cell_type": "markdown",
   "id": "a9648708",
   "metadata": {},
   "source": [
    "# TRAITEMENT"
   ]
  },
  {
   "cell_type": "code",
   "execution_count": 7,
   "id": "7c9f3535",
   "metadata": {},
   "outputs": [],
   "source": [
    "#Drop les lignes où la valeur est null\n",
    "valeur_here = data_sous_nutri.dropna(inplace=True)"
   ]
  },
  {
   "cell_type": "code",
   "execution_count": 8,
   "id": "d6a640ab",
   "metadata": {
    "scrolled": true
   },
   "outputs": [],
   "source": [
    "#Mise en forme des années dans les data Sous nutrition\n",
    "data_sous_nutri.loc[data_sous_nutri['Année'] == '2016-2018','Année'] = 2017"
   ]
  },
  {
   "cell_type": "code",
   "execution_count": 9,
   "id": "81f74444",
   "metadata": {},
   "outputs": [],
   "source": [
    "#Transforme la population en sous-nutrition de <0.1 à 0.1\n",
    "data_sous_nutri.loc[data_sous_nutri['Valeur'] == '<0.1','Valeur'] = 0.1"
   ]
  },
  {
   "cell_type": "code",
   "execution_count": 10,
   "id": "c570315b",
   "metadata": {},
   "outputs": [],
   "source": [
    "#Changement de type pour bien mettre tout en float\n",
    "data_sous_nutri['Valeur'] = data_sous_nutri['Valeur'].astype('float')"
   ]
  },
  {
   "cell_type": "code",
   "execution_count": 11,
   "id": "37f1aa4e",
   "metadata": {},
   "outputs": [
    {
     "data": {
      "text/plain": [
       "<bound method DataFrame.dropna of              Zone      Année  Valeur\n",
       "0     Afghanistan  2012-2014     8.6\n",
       "1     Afghanistan  2013-2015     8.8\n",
       "2     Afghanistan  2014-2016     8.9\n",
       "3     Afghanistan  2015-2017     9.7\n",
       "4     Afghanistan       2017    10.5\n",
       "...           ...        ...     ...\n",
       "1195     Viet Nam  2013-2015     8.3\n",
       "1196     Viet Nam  2014-2016     7.6\n",
       "1197     Viet Nam  2015-2017     7.1\n",
       "1198     Viet Nam       2017     6.5\n",
       "1199     Viet Nam  2017-2019     6.1\n",
       "\n",
       "[624 rows x 3 columns]>"
      ]
     },
     "execution_count": 11,
     "metadata": {},
     "output_type": "execute_result"
    }
   ],
   "source": [
    "#Suppression des données vides\n",
    "data_sous_nutri.dropna"
   ]
  },
  {
   "cell_type": "code",
   "execution_count": 12,
   "id": "e9e4ec1a",
   "metadata": {},
   "outputs": [],
   "source": [
    "#data_sous_nutri['Valeur'] = data_sous_nutri['Valeur']*1000 -> convertion en milliers\n",
    "data_population['Valeur'] = data_population['Valeur']/1000 #Convertion en millions\n"
   ]
  },
  {
   "cell_type": "code",
   "execution_count": 13,
   "id": "2639aa15",
   "metadata": {},
   "outputs": [],
   "source": [
    "#Remplacement des NaN par 0\n",
    "\n",
    "data_dispo_ali = data_dispo_ali.fillna(0)"
   ]
  },
  {
   "cell_type": "code",
   "execution_count": 14,
   "id": "a58bceb4",
   "metadata": {},
   "outputs": [],
   "source": [
    "#Renomme \"Bénéficiaire\" en zone pour homogénéiser \n",
    "data_aide_ali = data_aide_ali.rename(columns = {'Pays bénéficiaire': 'Zone', 'Année': 'Année', 'Produit' : 'Produit', 'Valeur' :'Valeur'})\n",
    "data_population = data_population.rename(columns = {'Zone': 'Zone', 'Année': 'Année', 'Valeur' : 'Population'})"
   ]
  },
  {
   "cell_type": "markdown",
   "id": "3aeefbee",
   "metadata": {},
   "source": [
    "# REQUÊTE DE MARK"
   ]
  },
  {
   "cell_type": "markdown",
   "id": "e539babc",
   "metadata": {},
   "source": [
    "## REQUETE 1"
   ]
  },
  {
   "cell_type": "code",
   "execution_count": 15,
   "id": "7ad4b4cc",
   "metadata": {},
   "outputs": [
    {
     "data": {
      "text/plain": [
       "4       10.5\n",
       "10       3.1\n",
       "16       0.1\n",
       "22       1.3\n",
       "40       5.8\n",
       "        ... \n",
       "1156     0.2\n",
       "1174     1.5\n",
       "1186     0.1\n",
       "1192     8.0\n",
       "1198     6.5\n",
       "Name: Valeur, Length: 104, dtype: float64"
      ]
     },
     "execution_count": 15,
     "metadata": {},
     "output_type": "execute_result"
    }
   ],
   "source": [
    "#Faire un merge à la place pour les pays avec des données absentes\n",
    "#Dataframe Sous-nutrition pour 2017\n",
    "Sous_nutri_2017 = data_sous_nutri.loc[data_sous_nutri['Année']==2017,:] #Datafram Sous-nutrition pour 2017\n",
    "\n",
    "Sous_nutri_2017['Valeur'].astype('float')"
   ]
  },
  {
   "cell_type": "code",
   "execution_count": 16,
   "id": "d290ca74",
   "metadata": {},
   "outputs": [],
   "source": [
    "#Dataframe de la population pour 2017\n",
    "Population_2017 = data_population.loc[data_population['Année']==2017,:]"
   ]
  },
  {
   "cell_type": "code",
   "execution_count": 17,
   "id": "94869c7e",
   "metadata": {},
   "outputs": [],
   "source": [
    "#Somme d'habitants en sous nutri en millions\n",
    "Total_sous_nutri_2017 = np.sum(Sous_nutri_2017['Valeur'])"
   ]
  },
  {
   "cell_type": "code",
   "execution_count": 18,
   "id": "1cb069b3",
   "metadata": {},
   "outputs": [],
   "source": [
    "#Somme d'habitant total en milliers / conversion en millions\n",
    "Total_population_2017 = np.sum(Population_2017['Population'])"
   ]
  },
  {
   "cell_type": "code",
   "execution_count": 19,
   "id": "b8ade2f8",
   "metadata": {},
   "outputs": [
    {
     "name": "stdout",
     "output_type": "stream",
     "text": [
      "Pourcentage de la population en état de sous-nutrition :  7.12 %\n"
     ]
    }
   ],
   "source": [
    "#Calcul pourcentage\n",
    "pourc_sous_nutri_2017 = round((Total_sous_nutri_2017*100/Total_population_2017),2)\n",
    "print(\"Pourcentage de la population en état de sous-nutrition : \",pourc_sous_nutri_2017,\"%\")"
   ]
  },
  {
   "cell_type": "markdown",
   "id": "ecad9ccf",
   "metadata": {},
   "source": [
    "## REQUETE 2"
   ]
  },
  {
   "cell_type": "code",
   "execution_count": 20,
   "id": "3029cbf6",
   "metadata": {},
   "outputs": [],
   "source": [
    "# ATTENTION : multiplier le nombre de calories par le nombre d'habitant pour chaque produit"
   ]
  },
  {
   "cell_type": "code",
   "execution_count": 21,
   "id": "d71193ae",
   "metadata": {},
   "outputs": [],
   "source": [
    "Dispo = data_dispo_ali.groupby('Zone').sum()[['Disponibilité alimentaire (Kcal/personne/jour)']]"
   ]
  },
  {
   "cell_type": "code",
   "execution_count": 22,
   "id": "e06ff270",
   "metadata": {},
   "outputs": [],
   "source": [
    "#Jointure de la table Population_2017 & data_dispo_ali\n",
    "Dispo_alim_pays = pd.merge(Population_2017, Dispo, how=\"left\", on=\"Zone\")"
   ]
  },
  {
   "cell_type": "code",
   "execution_count": 23,
   "id": "dd97fe9d",
   "metadata": {},
   "outputs": [
    {
     "name": "stdout",
     "output_type": "stream",
     "text": [
      "7635429388.975815\n"
     ]
    }
   ],
   "source": [
    "#Convertion calorie en kcal\n",
    "Calorie = 2400*365\n",
    "\n",
    "#Calcul de la population mondiale en 2017\n",
    "Population_2017_tt = np.sum(Dispo_alim_pays['Population'])\n",
    "\n",
    "Somme_dispo = (Dispo_alim_pays['Population']*Dispo_alim_pays['Disponibilité alimentaire (Kcal/personne/jour)'])*365\n",
    "print(np.sum(Somme_dispo))"
   ]
  },
  {
   "cell_type": "code",
   "execution_count": 24,
   "id": "06266f0c",
   "metadata": {},
   "outputs": [
    {
     "name": "stdout",
     "output_type": "stream",
     "text": [
      "Nombre de personne théorique qui peuvent être nourris : 8716\n",
      "115 % de la population mondiale\n"
     ]
    }
   ],
   "source": [
    "Perso_theo = np.sum(Somme_dispo)/Calorie\n",
    "print(\"Nombre de personne théorique qui peuvent être nourris :\", round(Perso_theo)) #rajouter l'unité\n",
    "\n",
    "pourcentage = Perso_theo/Population_2017_tt*100\n",
    "print(round(pourcentage),\"% de la population mondiale\")"
   ]
  },
  {
   "cell_type": "markdown",
   "id": "fa47b05d",
   "metadata": {},
   "source": [
    "## REQUÊTE 3"
   ]
  },
  {
   "cell_type": "code",
   "execution_count": 25,
   "id": "832a96ba",
   "metadata": {},
   "outputs": [],
   "source": [
    "Dispo_alim_veg = data_dispo_ali.loc[data_dispo_ali[\"Origine\"]==\"vegetale\",:]"
   ]
  },
  {
   "cell_type": "code",
   "execution_count": 26,
   "id": "58881585",
   "metadata": {},
   "outputs": [],
   "source": [
    "Dispo_veg = Dispo_alim_veg.groupby('Zone').sum()[['Disponibilité alimentaire (Kcal/personne/jour)']]"
   ]
  },
  {
   "cell_type": "code",
   "execution_count": 27,
   "id": "1b3b6f58",
   "metadata": {},
   "outputs": [],
   "source": [
    "Dispo_alim_pays_veg = pd.merge(Population_2017, Dispo_veg, how=\"left\", on=\"Zone\")"
   ]
  },
  {
   "cell_type": "code",
   "execution_count": 28,
   "id": "b5596e10",
   "metadata": {},
   "outputs": [],
   "source": [
    "#Convertion calorie en kcal\n",
    "Calorie = 2400*365\n",
    "\n",
    "#Calcul de la population mondiale en 2017\n",
    "Population_2017_tt = np.sum(Dispo_alim_pays['Population'])\n",
    "\n",
    "Somme_dispo_veg = (Dispo_alim_pays_veg['Population']*Dispo_alim_pays_veg['Disponibilité alimentaire (Kcal/personne/jour)'])*365"
   ]
  },
  {
   "cell_type": "code",
   "execution_count": 29,
   "id": "626e5b8c",
   "metadata": {},
   "outputs": [
    {
     "name": "stdout",
     "output_type": "stream",
     "text": [
      "Nombre de personne théorique qui peuvent être nourris (Végétaux) : 7192\n",
      "95 % de la population mondiale\n"
     ]
    }
   ],
   "source": [
    "Perso_theo_veg = np.sum(Somme_dispo_veg)/Calorie\n",
    "print(\"Nombre de personne théorique qui peuvent être nourris (Végétaux) :\", round(Perso_theo_veg))\n",
    "\n",
    "pourcentage_veg = Perso_theo_veg/Population_2017_tt*100\n",
    "print(round(pourcentage_veg),\"% de la population mondiale\")"
   ]
  },
  {
   "cell_type": "markdown",
   "id": "000561fa",
   "metadata": {},
   "source": [
    "## REQUÊTE 4"
   ]
  },
  {
   "cell_type": "code",
   "execution_count": 30,
   "id": "2be402f6",
   "metadata": {},
   "outputs": [],
   "source": [
    "#Dispo intérieur = production + import - export + variation de stock\n",
    "#Dispo intérieur utilisation = Nouritture + pertes + autres utilisations + utilisation animaux + semences\n",
    "#Variable exprimée en milliers de tonnes"
   ]
  },
  {
   "cell_type": "code",
   "execution_count": 31,
   "id": "b5d95cbd",
   "metadata": {},
   "outputs": [],
   "source": [
    "Dispo_alim = np.sum(data_dispo_ali['Disponibilité intérieure'])\n",
    "Nourriture = np.sum(data_dispo_ali['Nourriture'])\n",
    "pertes = np.sum(data_dispo_ali['Pertes'])\n",
    "animaux = np.sum(data_dispo_ali['Aliments pour animaux'])\n",
    "aut_uti = np.sum(data_dispo_ali['Autres Utilisations'])\n",
    "Semences = np.sum(data_dispo_ali['Semences'])\n",
    "traitement = np.sum(data_dispo_ali['Traitement'])"
   ]
  },
  {
   "cell_type": "code",
   "execution_count": 32,
   "id": "4254cefc",
   "metadata": {},
   "outputs": [
    {
     "data": {
      "image/png": "[encoded data removed]",
      "text/plain": [
       "<Figure size 640x480 with 1 Axes>"
      ]
     },
     "metadata": {},
     "output_type": "display_data"
    },
    {
     "name": "stdout",
     "output_type": "stream",
     "text": [
      "Autre utilisations comprends les catégories suivantes : Autres utilisations 8.78 %, semences 1.57 %, traitements 22.38 %\n"
     ]
    }
   ],
   "source": [
    "part_n = round(Nourriture/Dispo_alim*100,2)\n",
    "part_p = round(pertes/Dispo_alim*100,2)\n",
    "part_a = round(animaux/Dispo_alim*100,2)\n",
    "part_at = round(aut_uti/Dispo_alim*100,2)\n",
    "part_s = round(Semences/Dispo_alim*100,2)\n",
    "part_t = round(traitement/Dispo_alim*100,2)\n",
    "\n",
    "part_autre = part_t + part_s + part_at\n",
    "\n",
    "#Création de graphique secteur\n",
    "values = [part_n,part_p,part_a,part_autre]\n",
    "labels = ['Nourriture', 'Pertes', 'Alimentation animaux','Autres utilisations']\n",
    "myexplode = [0.01, 0.01, 0.2, 0.01]\n",
    "\n",
    "plt.pie(values, labels = labels,explode = myexplode,autopct = '%1.1f%%')\n",
    "plt.legend(bbox_to_anchor = (2, 1), loc = 'upper right', prop = {'size': 10})\n",
    "plt.show() \n",
    "\n",
    "print(\"Autre utilisations comprends les catégories suivantes : Autres utilisations\",part_at,\"%, semences\",part_s,\"%, traitements\",part_t,\"%\")"
   ]
  },
  {
   "cell_type": "markdown",
   "id": "d14abb3b",
   "metadata": {},
   "source": [
    "# INTERROGATION JULIEN"
   ]
  },
  {
   "cell_type": "markdown",
   "id": "c7d83f25",
   "metadata": {},
   "source": [
    "## Utilisation des céréales"
   ]
  },
  {
   "cell_type": "markdown",
   "id": "9b56a385",
   "metadata": {},
   "source": [
    "#### Liste de céréale "
   ]
  },
  {
   "cell_type": "code",
   "execution_count": 33,
   "id": "249809e7",
   "metadata": {},
   "outputs": [],
   "source": [
    "produit = data_cereale['Produit']"
   ]
  },
  {
   "cell_type": "code",
   "execution_count": 34,
   "id": "21b58133",
   "metadata": {},
   "outputs": [
    {
     "name": "stdout",
     "output_type": "stream",
     "text": [
      "0       Blé et produits\n",
      "1       Riz et produits\n",
      "2      Orge et produits\n",
      "3      Maïs et produits\n",
      "4    Seigle et produits\n",
      "5                Avoine\n",
      "6    Millet et produits\n",
      "7    Sorgho et produits\n",
      "8      Céréales, Autres\n",
      "Name: Produit, dtype: object\n"
     ]
    }
   ],
   "source": [
    "#Suppression des doublons et reset de l'idnex\n",
    "produit = produit.drop_duplicates()\n",
    "produit = produit.reset_index(drop=True)\n",
    "print(produit)"
   ]
  },
  {
   "cell_type": "markdown",
   "id": "d3707b83",
   "metadata": {},
   "source": [
    "#### Part céréale V1"
   ]
  },
  {
   "cell_type": "code",
   "execution_count": 35,
   "id": "46cfe0fe",
   "metadata": {},
   "outputs": [],
   "source": [
    "cereale_data = data_dispo_ali.groupby('Produit').sum()"
   ]
  },
  {
   "cell_type": "code",
   "execution_count": 36,
   "id": "baafece1",
   "metadata": {},
   "outputs": [],
   "source": [
    "#Localisation des produits appartenant à la liste\n",
    "Dispo_ble = cereale_data.loc[cereale_data.index == \"Blé\"]\n",
    "Dispo_riz = cereale_data.loc[cereale_data.index == \"Riz (Eq Blanchi)\"]\n",
    "Dispo_avoine = cereale_data.loc[cereale_data.index == \"Avoine\"]\n",
    "Dispo_orge = cereale_data.loc[cereale_data.index == \"Orge\"]\n",
    "Dispo_mais = cereale_data.loc[cereale_data.index == \"Maïs\"]\n",
    "Dispo_seigle = cereale_data.loc[cereale_data.index == \"Seigle\"]\n",
    "Dispo_Millet = cereale_data.loc[cereale_data.index == \"Millet\"]\n",
    "Dispo_Sorgho = cereale_data.loc[cereale_data.index == \"Sorgho\"]\n",
    "Dispo_autre = cereale_data.loc[cereale_data.index == \"Céréales, Autres\"]"
   ]
  },
  {
   "cell_type": "code",
   "execution_count": 37,
   "id": "c092a902",
   "metadata": {},
   "outputs": [],
   "source": [
    "Data_cer = pd.concat([Dispo_ble, Dispo_riz,Dispo_avoine,Dispo_orge,Dispo_mais,Dispo_seigle,Dispo_Millet,Dispo_Sorgho,Dispo_autre])"
   ]
  },
  {
   "cell_type": "code",
   "execution_count": 38,
   "id": "ee202ce5",
   "metadata": {},
   "outputs": [],
   "source": [
    "#Calcul pour avoir la totalité de chaque variable \n",
    "Dispo_alim = np.sum(Data_cer['Disponibilité intérieure'])\n",
    "Nourriture = np.sum(Data_cer['Nourriture'])\n",
    "pertes = np.sum(Data_cer['Pertes'])\n",
    "animaux = np.sum(Data_cer['Aliments pour animaux'])\n",
    "aut_uti = np.sum(Data_cer['Autres Utilisations'])\n",
    "Semences = np.sum(Data_cer['Semences'])\n",
    "traitement = np.sum(Data_cer['Traitement'])\n",
    "prod = np.sum(Data_cer['Production'])"
   ]
  },
  {
   "cell_type": "code",
   "execution_count": 39,
   "id": "1d7db4d2",
   "metadata": {},
   "outputs": [
    {
     "data": {
      "image/png": "[encoded data removed]",
      "text/plain": [
       "<Figure size 640x480 with 1 Axes>"
      ]
     },
     "metadata": {},
     "output_type": "display_data"
    },
    {
     "name": "stdout",
     "output_type": "stream",
     "text": [
      "Autre utilisations comprends les catégories suivantes : Autres utilisations 9.75 %, semences 2.85 %, traitements 3.93 %\n"
     ]
    }
   ],
   "source": [
    "#Calcul des différentes répartitions pour la disponibilité intérieure\n",
    "part_n = round(Nourriture/Dispo_alim*100,2)\n",
    "part_p = round(pertes/Dispo_alim*100,2)\n",
    "part_a = round(animaux/Dispo_alim*100,2)\n",
    "part_at = round(aut_uti/Dispo_alim*100,2)\n",
    "part_s = round(Semences/Dispo_alim*100,2)\n",
    "part_t = round(traitement/Dispo_alim*100,2)\n",
    "\n",
    "part_autre = part_t + part_s + part_at\n",
    "\n",
    "values = [part_n,part_p,part_a,part_autre]\n",
    "labels = ['Nourriture', 'Pertes', 'Alimentation animaux','Autres utilisations']\n",
    "myexplode = [0.01, 0.01, 0.01, 0.01]\n",
    "\n",
    "plt.pie(values, labels = labels,explode = myexplode,autopct = '%1.1f%%')\n",
    "plt.legend(bbox_to_anchor = (2, 1), loc = 'upper right', prop = {'size': 10})\n",
    "plt.show() \n",
    "\n",
    "print(\"Autre utilisations comprends les catégories suivantes : Autres utilisations\",part_at,\"%, semences\",part_s,\"%, traitements\",part_t,\"%\")"
   ]
  },
  {
   "cell_type": "markdown",
   "id": "72ac8bcc",
   "metadata": {},
   "source": [
    "#### Part céréales V2 "
   ]
  },
  {
   "cell_type": "code",
   "execution_count": 40,
   "id": "b86de406",
   "metadata": {},
   "outputs": [],
   "source": [
    "Dispo_cereale = cereale_data.loc[cereale_data.index.all() == \"Blé et produits\" or \"Avoine\" or \"Riz et produits\" or \"Orge et produits\" or \"Maïs et produits\" or \"Seigle et produits\" or \"Millet et produits\" or \"Sorgho et produits\" or \"Céréales, Autres\"]"
   ]
  },
  {
   "cell_type": "code",
   "execution_count": 41,
   "id": "99e07452",
   "metadata": {},
   "outputs": [
    {
     "name": "stdout",
     "output_type": "stream",
     "text": [
      "part des animaux : 69.43\n",
      "part de la nourriture : 16.67\n"
     ]
    }
   ],
   "source": [
    "#Calcul des différentes répartitions pour la disponibilité intérieure\n",
    "part_animaux = round(Dispo_cereale['Aliments pour animaux']/Dispo_cereale['Disponibilité intérieure']*100,2)\n",
    "part_nourriture =round(Dispo_cereale['Nourriture']/Dispo_cereale['Disponibilité intérieure']*100,2)\n",
    "part_semence = round(Dispo_cereale['Semences']/Dispo_cereale['Disponibilité intérieure']*100,2)\n",
    "part_traitement = round(Dispo_cereale['Traitement']/Dispo_cereale['Disponibilité intérieure']*100,2)\n",
    "part_perte = round(Dispo_cereale['Pertes']/Dispo_cereale['Disponibilité intérieure']*100,2)\n",
    "part_auti = round(Dispo_cereale['Autres Utilisations']/Dispo_cereale['Disponibilité intérieure']*100,2)\n",
    "\n",
    "part_autre_ = part_traitement + part_semence + part_auti\n",
    "\n",
    "\n",
    "print(\"part des animaux :\", part_animaux)\n",
    "print(\"part de la nourriture :\", part_nourriture)"
   ]
  },
  {
   "cell_type": "markdown",
   "id": "b7c65093",
   "metadata": {},
   "source": [
    "#### Création de graphique "
   ]
  },
  {
   "cell_type": "code",
   "execution_count": 42,
   "id": "d40f1785",
   "metadata": {},
   "outputs": [],
   "source": [
    "df = pd.DataFrame(data=[part_animaux,part_nourriture],columns=[\"Valeur\"], index = [\"Part Animaux\",\"Part Nourriture\"])"
   ]
  },
  {
   "cell_type": "code",
   "execution_count": 43,
   "id": "179575b2",
   "metadata": {},
   "outputs": [
    {
     "data": {
      "image/png": "[encoded data removed]",
      "text/plain": [
       "<Figure size 640x480 with 1 Axes>"
      ]
     },
     "metadata": {},
     "output_type": "display_data"
    },
    {
     "name": "stdout",
     "output_type": "stream",
     "text": [
      "Autre utilisations comprends les catégories suivantes : Autres utilisations 9.75 %, semences 2.85 %, traitements 3.93 %\n"
     ]
    }
   ],
   "source": [
    "values = [part_nourriture,part_perte,part_animaux,part_autre_]\n",
    "labels = ['Nourriture', 'Pertes', 'Alimentation animaux','Autres utilisations']\n",
    "myexplode = [0.01, 0.01, 0.01, 0.01]\n",
    "\n",
    "plt.pie(values, labels = labels,explode = myexplode,autopct = '%1.1f%%')\n",
    "plt.legend(bbox_to_anchor = (2, 1), loc = 'upper right', prop = {'size': 10})\n",
    "plt.show() \n",
    "\n",
    "print(\"Autre utilisations comprends les catégories suivantes : Autres utilisations\",part_at,\"%, semences\",part_s,\"%, traitements\",part_t,\"%\")"
   ]
  },
  {
   "cell_type": "markdown",
   "id": "6a22104d",
   "metadata": {},
   "source": [
    "### Exportation Manioc "
   ]
  },
  {
   "cell_type": "code",
   "execution_count": 44,
   "id": "48b3650e",
   "metadata": {},
   "outputs": [],
   "source": [
    "#Localisation des données pour les produits étant du Manioc\n",
    "manioc = data_dispo_ali.loc[data_dispo_ali['Produit']=='Manioc']"
   ]
  },
  {
   "cell_type": "code",
   "execution_count": 45,
   "id": "e69d429f",
   "metadata": {},
   "outputs": [],
   "source": [
    "#Localisation des lignes de Manioc pour la Thaïlande\n",
    "Manioc_thai =manioc.loc[manioc['Zone']=='Thaïlande']"
   ]
  },
  {
   "cell_type": "code",
   "execution_count": 46,
   "id": "66b61adc",
   "metadata": {},
   "outputs": [
    {
     "name": "stdout",
     "output_type": "stream",
     "text": [
      "Part d'exportation du manioc : 83.41\n"
     ]
    }
   ],
   "source": [
    "#Calcul de la part de l'exportation par rapport à la production de Manioc\n",
    "export = Manioc_thai['Exportations - Quantité']/Manioc_thai['Production']*100\n",
    "print(\"Part d'exportation du manioc :\",round(export.iat[0],2))"
   ]
  },
  {
   "cell_type": "markdown",
   "id": "02d75afa",
   "metadata": {},
   "source": [
    "### Sous Nutrition de la Thaïlande "
   ]
  },
  {
   "cell_type": "code",
   "execution_count": 47,
   "id": "cb739320",
   "metadata": {},
   "outputs": [],
   "source": [
    "#Localisation des données de sous nutrition pour l'année 2017\n",
    "Sous_nutri_2017 = data_sous_nutri.loc[data_sous_nutri['Année']==2017,:]"
   ]
  },
  {
   "cell_type": "code",
   "execution_count": 48,
   "id": "2cf420be",
   "metadata": {},
   "outputs": [],
   "source": [
    "#Jointure entre les fichiers Sous nutri 2017 et population 2017\n",
    "Sous_nutri_2 = pd.merge(Sous_nutri_2017, Population_2017,how=\"left\", on=\"Zone\")"
   ]
  },
  {
   "cell_type": "code",
   "execution_count": 49,
   "id": "9d7c4091",
   "metadata": {},
   "outputs": [],
   "source": [
    "#Localisation des données de sous nutrition pour l'année 2017 pour la Thaïlande\n",
    "Sous_nutri_2017_thai = Sous_nutri_2.loc[Sous_nutri_2['Zone']==\"Thaïlande\",:]"
   ]
  },
  {
   "cell_type": "code",
   "execution_count": 50,
   "id": "9862c5e4",
   "metadata": {},
   "outputs": [
    {
     "name": "stdout",
     "output_type": "stream",
     "text": [
      "Sous-Nutrition en Thaîlande : 8.96 %\n",
      "95    6.2\n",
      "Name: Valeur, dtype: float64\n"
     ]
    }
   ],
   "source": [
    "#calcul du pourcentage de sous nutrition\n",
    "sous_nutri = Sous_nutri_2017_thai['Valeur'] / Sous_nutri_2017_thai['Population']*100\n",
    "print(\"Sous-Nutrition en Thaîlande :\",round(sous_nutri.iat[0],2),\"%\")\n",
    "print(Sous_nutri_2017_thai['Valeur'])"
   ]
  },
  {
   "cell_type": "markdown",
   "id": "b3c5f093",
   "metadata": {},
   "source": [
    "# REQUÊTE MELANIE"
   ]
  },
  {
   "cell_type": "markdown",
   "id": "4ef51929",
   "metadata": {},
   "source": [
    "## Requête 1"
   ]
  },
  {
   "cell_type": "markdown",
   "id": "2fe07c20",
   "metadata": {},
   "source": [
    "### Traitement "
   ]
  },
  {
   "cell_type": "code",
   "execution_count": 51,
   "id": "006664d2",
   "metadata": {},
   "outputs": [],
   "source": [
    "#Proportion de sous nutrition en 2017"
   ]
  },
  {
   "cell_type": "code",
   "execution_count": 52,
   "id": "246801cc",
   "metadata": {},
   "outputs": [],
   "source": [
    "Population_2017 = Population_2017.rename(columns = {'Zone': 'Zone', 'Année': 'Année', 'Valeur' : 'Population'})"
   ]
  },
  {
   "cell_type": "code",
   "execution_count": 53,
   "id": "9df3fabc",
   "metadata": {},
   "outputs": [],
   "source": [
    "#Localisation des données pour l'année 2017\n",
    "Sous_nutri_2017 = data_sous_nutri.loc[data_sous_nutri['Année']==2017,:]"
   ]
  },
  {
   "cell_type": "code",
   "execution_count": 54,
   "id": "e9a520ed",
   "metadata": {},
   "outputs": [],
   "source": [
    "#Jointure de la Df Sous nutrition 2017 et population 2017\n",
    "Sous_nutri_2 = pd.merge(Sous_nutri_2017, Population_2017,how=\"left\", on=\"Zone\")\n"
   ]
  },
  {
   "cell_type": "code",
   "execution_count": 55,
   "id": "dbaa2c6c",
   "metadata": {},
   "outputs": [],
   "source": [
    "Sous_nutri_2=Sous_nutri_2.assign(Pourcentage=Sous_nutri_2['Valeur']/Sous_nutri_2['Population']*100)\n",
    "Sous_nutri_2 = Sous_nutri_2.sort_values(by = 'Pourcentage', ascending = False)"
   ]
  },
  {
   "cell_type": "code",
   "execution_count": 56,
   "id": "08d58dbf",
   "metadata": {},
   "outputs": [],
   "source": [
    "#Isolation des îles quand valeur sous nutrition > 0.11\n",
    "head_sous_nutri = Sous_nutri_2.loc[Sous_nutri_2['Valeur']>0.11,:]"
   ]
  },
  {
   "cell_type": "code",
   "execution_count": 57,
   "id": "59d0c991",
   "metadata": {},
   "outputs": [],
   "source": [
    "#Trie et arrondis\n",
    "head_sous_nutri = head_sous_nutri.sort_values(by = 'Pourcentage', ascending = False)\n",
    "head_sous_nutri = head_sous_nutri.head()\n",
    "head_sous_nutri['Pourcentage'] = round(head_sous_nutri['Pourcentage'])\n"
   ]
  },
  {
   "cell_type": "markdown",
   "id": "8a201f9a",
   "metadata": {},
   "source": [
    "### Création Graphique "
   ]
  },
  {
   "cell_type": "code",
   "execution_count": 58,
   "id": "66fdb7b7",
   "metadata": {},
   "outputs": [],
   "source": [
    "#Analyse - pourquoi ils sont dans le top 5"
   ]
  },
  {
   "cell_type": "code",
   "execution_count": 59,
   "id": "1dc14d8f",
   "metadata": {},
   "outputs": [
    {
     "data": {
      "text/plain": [
       "Text(0, 0.5, 'Pays')"
      ]
     },
     "execution_count": 59,
     "metadata": {},
     "output_type": "execute_result"
    },
    {
     "data": {
      "image/png": "[encoded data removed]",
      "text/plain": [
       "<Figure size 640x480 with 1 Axes>"
      ]
     },
     "metadata": {},
     "output_type": "display_data"
    }
   ],
   "source": [
    "#Histogramme du top 5 du % de sous nutrition\n",
    "graphique = sns.barplot(data=head_sous_nutri, x='Pourcentage', y='Zone', ci=None, estimator=np.sum)\n",
    "\n",
    "#Ajout des étiquettes de valeur\n",
    "graphique.bar_label(graphique.containers[0])\n",
    "\n",
    "#Ajout du titre du graphique\n",
    "plt.title(\"Pays avec le % de sous-nutrition le plus élevé\")\n",
    "\n",
    "#Modification du noms des axes\n",
    "plt.xlabel('% de sous-nutrition')\n",
    "plt.ylabel('Pays')\n"
   ]
  },
  {
   "cell_type": "markdown",
   "id": "0ef16073",
   "metadata": {},
   "source": [
    "## Requête 2"
   ]
  },
  {
   "cell_type": "markdown",
   "id": "d0edb3b2",
   "metadata": {},
   "source": [
    "### Traitement "
   ]
  },
  {
   "cell_type": "code",
   "execution_count": 60,
   "id": "4fdfc706",
   "metadata": {},
   "outputs": [],
   "source": [
    "#Localisation pour 2013\n",
    "data_aide_ali_date = data_aide_ali.loc[data_aide_ali['Année']>2013,:]"
   ]
  },
  {
   "cell_type": "code",
   "execution_count": 61,
   "id": "ed2a6117",
   "metadata": {},
   "outputs": [],
   "source": [
    "aide = data_aide_ali_date.groupby('Zone').sum()[['Valeur']]"
   ]
  },
  {
   "cell_type": "code",
   "execution_count": 62,
   "id": "4f298ba3",
   "metadata": {
    "scrolled": true
   },
   "outputs": [],
   "source": [
    "head_aide_ali = aide.sort_values(by = 'Valeur', ascending = False)\n",
    "head_aide_ali = head_aide_ali.head()\n"
   ]
  },
  {
   "cell_type": "code",
   "execution_count": 63,
   "id": "411096d1",
   "metadata": {},
   "outputs": [],
   "source": [
    "head_aide_ali['Valeur'] =head_aide_ali['Valeur']/1000"
   ]
  },
  {
   "cell_type": "markdown",
   "id": "35d53cd2",
   "metadata": {},
   "source": [
    "### Création graphique "
   ]
  },
  {
   "cell_type": "code",
   "execution_count": 64,
   "id": "d9e5c07a",
   "metadata": {},
   "outputs": [
    {
     "data": {
      "text/plain": [
       "(0.0, 1500.0)"
      ]
     },
     "execution_count": 64,
     "metadata": {},
     "output_type": "execute_result"
    },
    {
     "data": {
      "image/png": "[encoded data removed]",
      "text/plain": [
       "<Figure size 640x480 with 1 Axes>"
      ]
     },
     "metadata": {},
     "output_type": "display_data"
    }
   ],
   "source": [
    "#graphique\n",
    "graphique = sns.barplot(data=head_aide_ali, x='Valeur', y=head_aide_ali.index, ci=None, estimator=np.sum)\n",
    "\n",
    "#Ajout du titre\n",
    "plt.title(\"Pays ayant reçu le plus d'aide alimentaire\")\n",
    "\n",
    "#Modification du nom des axes\n",
    "plt.xlabel('Aide alimentaire en kilos')\n",
    "plt.ylabel('Pays')\n",
    "\n",
    "#Etiquette de valeurs\n",
    "graphique.bar_label(graphique.containers[0])\n",
    "\n",
    "#Limite de l'axe x\n",
    "plt.xlim(0,1500)"
   ]
  },
  {
   "cell_type": "markdown",
   "id": "71a209c9",
   "metadata": {},
   "source": [
    "## Requête 3 "
   ]
  },
  {
   "cell_type": "markdown",
   "id": "216798b2",
   "metadata": {},
   "source": [
    "### Traitement "
   ]
  },
  {
   "cell_type": "code",
   "execution_count": 65,
   "id": "49bfa403",
   "metadata": {},
   "outputs": [],
   "source": [
    "#Par habitant ( /par habitant)\n",
    "\n",
    "aide_r3 = data_dispo_ali.groupby('Zone').sum()[['Disponibilité alimentaire (Kcal/personne/jour)']]"
   ]
  },
  {
   "cell_type": "code",
   "execution_count": 66,
   "id": "aede1600",
   "metadata": {},
   "outputs": [],
   "source": [
    "Data = aide_r3.sort_values(by = 'Disponibilité alimentaire (Kcal/personne/jour)', ascending = False)"
   ]
  },
  {
   "cell_type": "code",
   "execution_count": 67,
   "id": "2d3be53b",
   "metadata": {},
   "outputs": [
    {
     "data": {
      "text/html": [
       "<div>\n",
       "<style scoped>\n",
       "    .dataframe tbody tr th:only-of-type {\n",
       "        vertical-align: middle;\n",
       "    }\n",
       "\n",
       "    .dataframe tbody tr th {\n",
       "        vertical-align: top;\n",
       "    }\n",
       "\n",
       "    .dataframe thead th {\n",
       "        text-align: right;\n",
       "    }\n",
       "</style>\n",
       "<table border=\"1\" class=\"dataframe\">\n",
       "  <thead>\n",
       "    <tr style=\"text-align: right;\">\n",
       "      <th></th>\n",
       "      <th>Disponibilité alimentaire (Kcal/personne/jour)</th>\n",
       "    </tr>\n",
       "    <tr>\n",
       "      <th>Zone</th>\n",
       "      <th></th>\n",
       "    </tr>\n",
       "  </thead>\n",
       "  <tbody>\n",
       "    <tr>\n",
       "      <th>Autriche</th>\n",
       "      <td>3770.0</td>\n",
       "    </tr>\n",
       "    <tr>\n",
       "      <th>Belgique</th>\n",
       "      <td>3737.0</td>\n",
       "    </tr>\n",
       "    <tr>\n",
       "      <th>Turquie</th>\n",
       "      <td>3708.0</td>\n",
       "    </tr>\n",
       "    <tr>\n",
       "      <th>États-Unis d'Amérique</th>\n",
       "      <td>3682.0</td>\n",
       "    </tr>\n",
       "    <tr>\n",
       "      <th>Israël</th>\n",
       "      <td>3610.0</td>\n",
       "    </tr>\n",
       "    <tr>\n",
       "      <th>Irlande</th>\n",
       "      <td>3602.0</td>\n",
       "    </tr>\n",
       "    <tr>\n",
       "      <th>Italie</th>\n",
       "      <td>3578.0</td>\n",
       "    </tr>\n",
       "    <tr>\n",
       "      <th>Luxembourg</th>\n",
       "      <td>3540.0</td>\n",
       "    </tr>\n",
       "    <tr>\n",
       "      <th>Égypte</th>\n",
       "      <td>3518.0</td>\n",
       "    </tr>\n",
       "    <tr>\n",
       "      <th>Allemagne</th>\n",
       "      <td>3503.0</td>\n",
       "    </tr>\n",
       "  </tbody>\n",
       "</table>\n",
       "</div>"
      ],
      "text/plain": [
       "                       Disponibilité alimentaire (Kcal/personne/jour)\n",
       "Zone                                                                 \n",
       "Autriche                                                       3770.0\n",
       "Belgique                                                       3737.0\n",
       "Turquie                                                        3708.0\n",
       "États-Unis d'Amérique                                          3682.0\n",
       "Israël                                                         3610.0\n",
       "Irlande                                                        3602.0\n",
       "Italie                                                         3578.0\n",
       "Luxembourg                                                     3540.0\n",
       "Égypte                                                         3518.0\n",
       "Allemagne                                                      3503.0"
      ]
     },
     "execution_count": 67,
     "metadata": {},
     "output_type": "execute_result"
    }
   ],
   "source": [
    "top = Data.head()\n",
    "Data.head(10)"
   ]
  },
  {
   "cell_type": "code",
   "execution_count": 68,
   "id": "0d32e0ed",
   "metadata": {},
   "outputs": [
    {
     "data": {
      "text/html": [
       "<div>\n",
       "<style scoped>\n",
       "    .dataframe tbody tr th:only-of-type {\n",
       "        vertical-align: middle;\n",
       "    }\n",
       "\n",
       "    .dataframe tbody tr th {\n",
       "        vertical-align: top;\n",
       "    }\n",
       "\n",
       "    .dataframe thead th {\n",
       "        text-align: right;\n",
       "    }\n",
       "</style>\n",
       "<table border=\"1\" class=\"dataframe\">\n",
       "  <thead>\n",
       "    <tr style=\"text-align: right;\">\n",
       "      <th></th>\n",
       "      <th>Disponibilité alimentaire (Kcal/personne/jour)</th>\n",
       "    </tr>\n",
       "    <tr>\n",
       "      <th>Zone</th>\n",
       "      <th></th>\n",
       "    </tr>\n",
       "  </thead>\n",
       "  <tbody>\n",
       "    <tr>\n",
       "      <th>Éthiopie</th>\n",
       "      <td>2129.0</td>\n",
       "    </tr>\n",
       "    <tr>\n",
       "      <th>Ouganda</th>\n",
       "      <td>2126.0</td>\n",
       "    </tr>\n",
       "    <tr>\n",
       "      <th>Zimbabwe</th>\n",
       "      <td>2113.0</td>\n",
       "    </tr>\n",
       "    <tr>\n",
       "      <th>Tchad</th>\n",
       "      <td>2109.0</td>\n",
       "    </tr>\n",
       "    <tr>\n",
       "      <th>République populaire démocratique de Corée</th>\n",
       "      <td>2093.0</td>\n",
       "    </tr>\n",
       "    <tr>\n",
       "      <th>Haïti</th>\n",
       "      <td>2089.0</td>\n",
       "    </tr>\n",
       "    <tr>\n",
       "      <th>Afghanistan</th>\n",
       "      <td>2087.0</td>\n",
       "    </tr>\n",
       "    <tr>\n",
       "      <th>Madagascar</th>\n",
       "      <td>2056.0</td>\n",
       "    </tr>\n",
       "    <tr>\n",
       "      <th>Zambie</th>\n",
       "      <td>1924.0</td>\n",
       "    </tr>\n",
       "    <tr>\n",
       "      <th>République centrafricaine</th>\n",
       "      <td>1879.0</td>\n",
       "    </tr>\n",
       "  </tbody>\n",
       "</table>\n",
       "</div>"
      ],
      "text/plain": [
       "                                            Disponibilité alimentaire (Kcal/personne/jour)\n",
       "Zone                                                                                      \n",
       "Éthiopie                                                                            2129.0\n",
       "Ouganda                                                                             2126.0\n",
       "Zimbabwe                                                                            2113.0\n",
       "Tchad                                                                               2109.0\n",
       "République populaire démocratique de Corée                                          2093.0\n",
       "Haïti                                                                               2089.0\n",
       "Afghanistan                                                                         2087.0\n",
       "Madagascar                                                                          2056.0\n",
       "Zambie                                                                              1924.0\n",
       "République centrafricaine                                                           1879.0"
      ]
     },
     "execution_count": 68,
     "metadata": {},
     "output_type": "execute_result"
    }
   ],
   "source": [
    "flop = Data.tail()\n",
    "Data.tail(10)"
   ]
  },
  {
   "cell_type": "code",
   "execution_count": 69,
   "id": "cb62cf2b",
   "metadata": {},
   "outputs": [],
   "source": [
    "g_3 = pd.concat([top, flop])"
   ]
  },
  {
   "cell_type": "markdown",
   "id": "6cbbb0a4",
   "metadata": {},
   "source": [
    "### Création graphique "
   ]
  },
  {
   "cell_type": "code",
   "execution_count": 70,
   "id": "9210fc6c",
   "metadata": {},
   "outputs": [
    {
     "data": {
      "text/plain": [
       "(0.0, 4200.0)"
      ]
     },
     "execution_count": 70,
     "metadata": {},
     "output_type": "execute_result"
    },
    {
     "data": {
      "image/png": "[encoded data removed]",
      "text/plain": [
       "<Figure size 640x480 with 1 Axes>"
      ]
     },
     "metadata": {},
     "output_type": "display_data"
    }
   ],
   "source": [
    "graphique = sns.barplot(data=g_3, x='Disponibilité alimentaire (Kcal/personne/jour)', y=g_3.index, ci=None, estimator=np.sum)\n",
    "\n",
    "#Ajout d'un titre\n",
    "plt.title(\"Pays ayant le plus et le moins de disponibilité alimentaire\")\n",
    "\n",
    "#Modification du nom des axes\n",
    "plt.xlabel('Disponibilité alimentaire en milliers de tonnes')\n",
    "plt.ylabel('Pays')\n",
    "\n",
    "\n",
    "#Ajout des valeurs pour chaque pays\n",
    "graphique.bar_label(graphique.containers[0])\n",
    "\n",
    "#Imposition des limites de l'axe X\n",
    "plt.xlim(0,4200)"
   ]
  },
  {
   "cell_type": "code",
   "execution_count": null,
   "id": "697f7e0b",
   "metadata": {},
   "outputs": [],
   "source": []
  }
 ],
 "metadata": {
  "kernelspec": {
   "display_name": "Python 3 (ipykernel)",
   "language": "python",
   "name": "python3"
  },
  "language_info": {
   "codemirror_mode": {
    "name": "ipython",
    "version": 3
   },
   "file_extension": ".py",
   "mimetype": "text/x-python",
   "name": "python",
   "nbconvert_exporter": "python",
   "pygments_lexer": "ipython3",
   "version": "3.10.9"
  }
 },
 "nbformat": 4,
 "nbformat_minor": 5
}
